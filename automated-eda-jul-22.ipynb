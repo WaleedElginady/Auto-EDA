{
 "cells": [
  {
   "cell_type": "code",
   "execution_count": 1,
   "id": "9cb6fdf2",
   "metadata": {
    "_cell_guid": "a3b3aa38-40e5-4808-99ef-72a45088f62b",
    "_uuid": "866a7df5-a29e-4d5a-8e3b-cde633bb2620",
    "collapsed": false,
    "execution": {
     "iopub.execute_input": "2022-07-31T19:27:26.293643Z",
     "iopub.status.busy": "2022-07-31T19:27:26.293007Z",
     "iopub.status.idle": "2022-07-31T19:27:27.437227Z",
     "shell.execute_reply": "2022-07-31T19:27:27.435932Z"
    },
    "jupyter": {
     "outputs_hidden": false
    },
    "papermill": {
     "duration": 1.158238,
     "end_time": "2022-07-31T19:27:27.440008",
     "exception": false,
     "start_time": "2022-07-31T19:27:26.281770",
     "status": "completed"
    },
    "tags": []
   },
   "outputs": [
    {
     "name": "stdout",
     "output_type": "stream",
     "text": [
      "/kaggle/input/retaildataset/stores data-set.csv\n",
      "/kaggle/input/retaildataset/Features data set.csv\n",
      "/kaggle/input/retaildataset/sales data-set.csv\n",
      "/kaggle/input/data-police-shootings/fatal-police-shootings-data.csv\n"
     ]
    }
   ],
   "source": [
    "# This Python 3 environment comes with many helpful analytics libraries installed\n",
    "# It is defined by the kaggle/python Docker image: https://github.com/kaggle/docker-python\n",
    "# For example, here's several helpful packages to load\n",
    "\n",
    "import numpy as np # linear algebra\n",
    "import pandas as pd # data processing, CSV file I/O (e.g. pd.read_csv)\n",
    "import seaborn as sns\n",
    "import matplotlib.pyplot as plt    #\n",
    "# Input data files are available in the read-only \"../input/\" directory\n",
    "# For example, running this (by clicking run or pressing Shift+Enter) will list all files under the input directory\n",
    "\n",
    "import os\n",
    "for dirname, _, filenames in os.walk('/kaggle/input'):\n",
    "    for filename in filenames:\n",
    "        print(os.path.join(dirname, filename))\n",
    "\n",
    "# You can write up to 20GB to the current directory (/kaggle/working/) that gets preserved as output when you create a version using \"Save & Run All\" \n",
    "# You can also write temporary files to /kaggle/temp/, but they won't be saved outside of the current session"
   ]
  },
  {
   "cell_type": "markdown",
   "id": "989ed5f8",
   "metadata": {
    "papermill": {
     "duration": 0.00777,
     "end_time": "2022-07-31T19:27:27.456009",
     "exception": false,
     "start_time": "2022-07-31T19:27:27.448239",
     "status": "completed"
    },
    "tags": []
   },
   "source": []
  },
  {
   "cell_type": "markdown",
   "id": "8b0c2d22",
   "metadata": {
    "papermill": {
     "duration": 0.007676,
     "end_time": "2022-07-31T19:27:27.471565",
     "exception": false,
     "start_time": "2022-07-31T19:27:27.463889",
     "status": "completed"
    },
    "tags": []
   },
   "source": [
    "Missing Data"
   ]
  },
  {
   "cell_type": "code",
   "execution_count": 2,
   "id": "eebe103a",
   "metadata": {
    "execution": {
     "iopub.execute_input": "2022-07-31T19:27:27.490029Z",
     "iopub.status.busy": "2022-07-31T19:27:27.489249Z",
     "iopub.status.idle": "2022-07-31T19:27:27.511354Z",
     "shell.execute_reply": "2022-07-31T19:27:27.509975Z"
    },
    "papermill": {
     "duration": 0.034781,
     "end_time": "2022-07-31T19:27:27.514354",
     "exception": false,
     "start_time": "2022-07-31T19:27:27.479573",
     "status": "completed"
    },
    "tags": []
   },
   "outputs": [],
   "source": [
    "def automated_EDA(directory):\n",
    "    \n",
    "    #import used liberaries\n",
    "    \n",
    "    import numpy as np # linear algebra\n",
    "    import pandas as pd # data processing, CSV file I/O (e.g. pd.read_csv)\n",
    "    import seaborn as sns\n",
    "    import matplotlib.pyplot as plt \n",
    "    import os\n",
    "    \n",
    "    #load data file\n",
    "    try:\n",
    "        data= pd.read_csv(directory)\n",
    "    except Exception:\n",
    "        try:\n",
    "            data=pd.read_excel(directory)\n",
    "        except Exception:\n",
    "            print(\"\"\"\"THIS DATA FORMAT IS NOT SUPPORTED \n",
    "                  Please LOAD DATA ONLY IN CSV OR EXCEL FORMAT\"\"\")\n",
    "    \n",
    "    #DATA  SHAPE/ HEAD / DESCRIBE / INFO \n",
    "    print('Data Shape :')\n",
    "    print(data.shape)\n",
    "    print('\\n------------------------')\n",
    " \n",
    "                  \n",
    "    print('Data head : ')\n",
    "    display(data.head())\n",
    "    print('\\n------------------------')\n",
    "    \n",
    "\n",
    "    print('data info : ')\n",
    "    display(data.info())\n",
    "    print('\\n------------------------')\n",
    "    \n",
    "\n",
    "    print('data describtion : ')\n",
    "    display(data.describe())\n",
    "    print('\\n------------------------')\n",
    "\n",
    "    #Missing DATA\n",
    "    total_missing= data.isnull().sum()\n",
    "    percent_missing=(data.isnull().sum()/data.isnull().count()) \n",
    "    \n",
    "    print('\\n------------------------')\n",
    "    print(\"the missing data is as follows\",total_missing)\n",
    "    print('\\n------------------------')\n",
    "    print(\"percentage\", percent_missing) \n",
    "    print('\\n------------------------')\n",
    "    #CONVERT DATE COLUMN\n",
    "    try:\n",
    "        if 'Date' in data.columns: #how ever we can try \"Date\" in many format(DATA, date etc...)\n",
    "            data['Date'] = pd.to_datetime(data['Date']).astype(str)\n",
    "        \n",
    "    except:\n",
    "        print('Date column not found')\n",
    "                  \n",
    "    #EXPLORE NUMERICAL COLUMNS\n",
    "    numeric_data = data.select_dtypes(include=['int64', 'float64']).columns\n",
    "    \n",
    "    #NUMERICAL DATA IMPUTATION              \n",
    "    for feature in numeric_data:\n",
    "        data[feature].fillna(data[feature].mean(), inplace=True) #we can use mode, median alsodepending on data\n",
    "                  \n",
    "                  \n",
    "    #EXPLORE CATEGORICAL COLUMNS\n",
    "    categorical_data = data.select_dtypes(include=[ 'object', 'bool']).columns    \n",
    "                  \n",
    "    #CATEGORICAL DATA IMPUTATION\n",
    "    for feature in categorical_data:\n",
    "        data[feature].fillna(data[feature].mode()[0], inplace=True)\n",
    "    \n",
    "    \n",
    "    print('\\n------------------------')\n",
    "    print (\"MISSING DATA AFTER IMPUTATION\")\n",
    "    print('\\n------------------------')\n",
    "    print(\"MISSING NUMERICAL DATA COUNT\", numeric_data.isnull().sum())\n",
    "    print('\\n------------------------')\n",
    "    print(\"MISSING CATEGORICAL DATA COUNT\", categorical_data.isnull().sum())\n",
    "    print('\\n------------------------')\n",
    "    \n",
    "    #CORRELATION MATRIX\n",
    "    corr = data.corr()\n",
    "    sns.heatmap(corr, annot=True)\n",
    "    \n",
    "    # getting distribution of numeric features with plots\n",
    "    for column in numeric_data:\n",
    "        fig = plt.figure(figsize=(9, 6))\n",
    "        ax = fig.gca()\n",
    "        feature = data[column]\n",
    "        feature.hist(bins=100, ax=ax)\n",
    "        ax.axvline(feature.mean(), color='magenta',\n",
    "                   linestyle='dashed', linewidth=2, label='Mean')\n",
    "        ax.axvline(feature.median(), color='cyan',\n",
    "                   linestyle='dashed', linewidth=2, label='Median')\n",
    "        ax.set_title(column)\n",
    "        plt.legend()\n",
    "        plt.show()"
   ]
  },
  {
   "cell_type": "code",
   "execution_count": 3,
   "id": "457633e9",
   "metadata": {
    "execution": {
     "iopub.execute_input": "2022-07-31T19:27:27.532452Z",
     "iopub.status.busy": "2022-07-31T19:27:27.532047Z",
     "iopub.status.idle": "2022-07-31T19:27:33.487179Z",
     "shell.execute_reply": "2022-07-31T19:27:33.486086Z"
    },
    "papermill": {
     "duration": 5.967179,
     "end_time": "2022-07-31T19:27:33.489769",
     "exception": false,
     "start_time": "2022-07-31T19:27:27.522590",
     "status": "completed"
    },
    "tags": []
   },
   "outputs": [
    {
     "name": "stdout",
     "output_type": "stream",
     "text": [
      "Data Shape :\n",
      "(8190, 12)\n",
      "\n",
      "------------------------\n",
      "Data head : \n"
     ]
    },
    {
     "data": {
      "text/html": [
       "<div>\n",
       "<style scoped>\n",
       "    .dataframe tbody tr th:only-of-type {\n",
       "        vertical-align: middle;\n",
       "    }\n",
       "\n",
       "    .dataframe tbody tr th {\n",
       "        vertical-align: top;\n",
       "    }\n",
       "\n",
       "    .dataframe thead th {\n",
       "        text-align: right;\n",
       "    }\n",
       "</style>\n",
       "<table border=\"1\" class=\"dataframe\">\n",
       "  <thead>\n",
       "    <tr style=\"text-align: right;\">\n",
       "      <th></th>\n",
       "      <th>Store</th>\n",
       "      <th>Date</th>\n",
       "      <th>Temperature</th>\n",
       "      <th>Fuel_Price</th>\n",
       "      <th>MarkDown1</th>\n",
       "      <th>MarkDown2</th>\n",
       "      <th>MarkDown3</th>\n",
       "      <th>MarkDown4</th>\n",
       "      <th>MarkDown5</th>\n",
       "      <th>CPI</th>\n",
       "      <th>Unemployment</th>\n",
       "      <th>IsHoliday</th>\n",
       "    </tr>\n",
       "  </thead>\n",
       "  <tbody>\n",
       "    <tr>\n",
       "      <th>0</th>\n",
       "      <td>1</td>\n",
       "      <td>05/02/2010</td>\n",
       "      <td>42.31</td>\n",
       "      <td>2.572</td>\n",
       "      <td>NaN</td>\n",
       "      <td>NaN</td>\n",
       "      <td>NaN</td>\n",
       "      <td>NaN</td>\n",
       "      <td>NaN</td>\n",
       "      <td>211.096358</td>\n",
       "      <td>8.106</td>\n",
       "      <td>False</td>\n",
       "    </tr>\n",
       "    <tr>\n",
       "      <th>1</th>\n",
       "      <td>1</td>\n",
       "      <td>12/02/2010</td>\n",
       "      <td>38.51</td>\n",
       "      <td>2.548</td>\n",
       "      <td>NaN</td>\n",
       "      <td>NaN</td>\n",
       "      <td>NaN</td>\n",
       "      <td>NaN</td>\n",
       "      <td>NaN</td>\n",
       "      <td>211.242170</td>\n",
       "      <td>8.106</td>\n",
       "      <td>True</td>\n",
       "    </tr>\n",
       "    <tr>\n",
       "      <th>2</th>\n",
       "      <td>1</td>\n",
       "      <td>19/02/2010</td>\n",
       "      <td>39.93</td>\n",
       "      <td>2.514</td>\n",
       "      <td>NaN</td>\n",
       "      <td>NaN</td>\n",
       "      <td>NaN</td>\n",
       "      <td>NaN</td>\n",
       "      <td>NaN</td>\n",
       "      <td>211.289143</td>\n",
       "      <td>8.106</td>\n",
       "      <td>False</td>\n",
       "    </tr>\n",
       "    <tr>\n",
       "      <th>3</th>\n",
       "      <td>1</td>\n",
       "      <td>26/02/2010</td>\n",
       "      <td>46.63</td>\n",
       "      <td>2.561</td>\n",
       "      <td>NaN</td>\n",
       "      <td>NaN</td>\n",
       "      <td>NaN</td>\n",
       "      <td>NaN</td>\n",
       "      <td>NaN</td>\n",
       "      <td>211.319643</td>\n",
       "      <td>8.106</td>\n",
       "      <td>False</td>\n",
       "    </tr>\n",
       "    <tr>\n",
       "      <th>4</th>\n",
       "      <td>1</td>\n",
       "      <td>05/03/2010</td>\n",
       "      <td>46.50</td>\n",
       "      <td>2.625</td>\n",
       "      <td>NaN</td>\n",
       "      <td>NaN</td>\n",
       "      <td>NaN</td>\n",
       "      <td>NaN</td>\n",
       "      <td>NaN</td>\n",
       "      <td>211.350143</td>\n",
       "      <td>8.106</td>\n",
       "      <td>False</td>\n",
       "    </tr>\n",
       "  </tbody>\n",
       "</table>\n",
       "</div>"
      ],
      "text/plain": [
       "   Store        Date  Temperature  Fuel_Price  MarkDown1  MarkDown2  \\\n",
       "0      1  05/02/2010        42.31       2.572        NaN        NaN   \n",
       "1      1  12/02/2010        38.51       2.548        NaN        NaN   \n",
       "2      1  19/02/2010        39.93       2.514        NaN        NaN   \n",
       "3      1  26/02/2010        46.63       2.561        NaN        NaN   \n",
       "4      1  05/03/2010        46.50       2.625        NaN        NaN   \n",
       "\n",
       "   MarkDown3  MarkDown4  MarkDown5         CPI  Unemployment  IsHoliday  \n",
       "0        NaN        NaN        NaN  211.096358         8.106      False  \n",
       "1        NaN        NaN        NaN  211.242170         8.106       True  \n",
       "2        NaN        NaN        NaN  211.289143         8.106      False  \n",
       "3        NaN        NaN        NaN  211.319643         8.106      False  \n",
       "4        NaN        NaN        NaN  211.350143         8.106      False  "
      ]
     },
     "metadata": {},
     "output_type": "display_data"
    },
    {
     "name": "stdout",
     "output_type": "stream",
     "text": [
      "\n",
      "------------------------\n",
      "data info : \n",
      "<class 'pandas.core.frame.DataFrame'>\n",
      "RangeIndex: 8190 entries, 0 to 8189\n",
      "Data columns (total 12 columns):\n",
      " #   Column        Non-Null Count  Dtype  \n",
      "---  ------        --------------  -----  \n",
      " 0   Store         8190 non-null   int64  \n",
      " 1   Date          8190 non-null   object \n",
      " 2   Temperature   8190 non-null   float64\n",
      " 3   Fuel_Price    8190 non-null   float64\n",
      " 4   MarkDown1     4032 non-null   float64\n",
      " 5   MarkDown2     2921 non-null   float64\n",
      " 6   MarkDown3     3613 non-null   float64\n",
      " 7   MarkDown4     3464 non-null   float64\n",
      " 8   MarkDown5     4050 non-null   float64\n",
      " 9   CPI           7605 non-null   float64\n",
      " 10  Unemployment  7605 non-null   float64\n",
      " 11  IsHoliday     8190 non-null   bool   \n",
      "dtypes: bool(1), float64(9), int64(1), object(1)\n",
      "memory usage: 712.0+ KB\n"
     ]
    },
    {
     "data": {
      "text/plain": [
       "None"
      ]
     },
     "metadata": {},
     "output_type": "display_data"
    },
    {
     "name": "stdout",
     "output_type": "stream",
     "text": [
      "\n",
      "------------------------\n",
      "data describtion : \n"
     ]
    },
    {
     "data": {
      "text/html": [
       "<div>\n",
       "<style scoped>\n",
       "    .dataframe tbody tr th:only-of-type {\n",
       "        vertical-align: middle;\n",
       "    }\n",
       "\n",
       "    .dataframe tbody tr th {\n",
       "        vertical-align: top;\n",
       "    }\n",
       "\n",
       "    .dataframe thead th {\n",
       "        text-align: right;\n",
       "    }\n",
       "</style>\n",
       "<table border=\"1\" class=\"dataframe\">\n",
       "  <thead>\n",
       "    <tr style=\"text-align: right;\">\n",
       "      <th></th>\n",
       "      <th>Store</th>\n",
       "      <th>Temperature</th>\n",
       "      <th>Fuel_Price</th>\n",
       "      <th>MarkDown1</th>\n",
       "      <th>MarkDown2</th>\n",
       "      <th>MarkDown3</th>\n",
       "      <th>MarkDown4</th>\n",
       "      <th>MarkDown5</th>\n",
       "      <th>CPI</th>\n",
       "      <th>Unemployment</th>\n",
       "    </tr>\n",
       "  </thead>\n",
       "  <tbody>\n",
       "    <tr>\n",
       "      <th>count</th>\n",
       "      <td>8190.000000</td>\n",
       "      <td>8190.000000</td>\n",
       "      <td>8190.000000</td>\n",
       "      <td>4032.000000</td>\n",
       "      <td>2921.000000</td>\n",
       "      <td>3613.000000</td>\n",
       "      <td>3464.000000</td>\n",
       "      <td>4050.000000</td>\n",
       "      <td>7605.000000</td>\n",
       "      <td>7605.000000</td>\n",
       "    </tr>\n",
       "    <tr>\n",
       "      <th>mean</th>\n",
       "      <td>23.000000</td>\n",
       "      <td>59.356198</td>\n",
       "      <td>3.405992</td>\n",
       "      <td>7032.371786</td>\n",
       "      <td>3384.176594</td>\n",
       "      <td>1760.100180</td>\n",
       "      <td>3292.935886</td>\n",
       "      <td>4132.216422</td>\n",
       "      <td>172.460809</td>\n",
       "      <td>7.826821</td>\n",
       "    </tr>\n",
       "    <tr>\n",
       "      <th>std</th>\n",
       "      <td>12.987966</td>\n",
       "      <td>18.678607</td>\n",
       "      <td>0.431337</td>\n",
       "      <td>9262.747448</td>\n",
       "      <td>8793.583016</td>\n",
       "      <td>11276.462208</td>\n",
       "      <td>6792.329861</td>\n",
       "      <td>13086.690278</td>\n",
       "      <td>39.738346</td>\n",
       "      <td>1.877259</td>\n",
       "    </tr>\n",
       "    <tr>\n",
       "      <th>min</th>\n",
       "      <td>1.000000</td>\n",
       "      <td>-7.290000</td>\n",
       "      <td>2.472000</td>\n",
       "      <td>-2781.450000</td>\n",
       "      <td>-265.760000</td>\n",
       "      <td>-179.260000</td>\n",
       "      <td>0.220000</td>\n",
       "      <td>-185.170000</td>\n",
       "      <td>126.064000</td>\n",
       "      <td>3.684000</td>\n",
       "    </tr>\n",
       "    <tr>\n",
       "      <th>25%</th>\n",
       "      <td>12.000000</td>\n",
       "      <td>45.902500</td>\n",
       "      <td>3.041000</td>\n",
       "      <td>1577.532500</td>\n",
       "      <td>68.880000</td>\n",
       "      <td>6.600000</td>\n",
       "      <td>304.687500</td>\n",
       "      <td>1440.827500</td>\n",
       "      <td>132.364839</td>\n",
       "      <td>6.634000</td>\n",
       "    </tr>\n",
       "    <tr>\n",
       "      <th>50%</th>\n",
       "      <td>23.000000</td>\n",
       "      <td>60.710000</td>\n",
       "      <td>3.513000</td>\n",
       "      <td>4743.580000</td>\n",
       "      <td>364.570000</td>\n",
       "      <td>36.260000</td>\n",
       "      <td>1176.425000</td>\n",
       "      <td>2727.135000</td>\n",
       "      <td>182.764003</td>\n",
       "      <td>7.806000</td>\n",
       "    </tr>\n",
       "    <tr>\n",
       "      <th>75%</th>\n",
       "      <td>34.000000</td>\n",
       "      <td>73.880000</td>\n",
       "      <td>3.743000</td>\n",
       "      <td>8923.310000</td>\n",
       "      <td>2153.350000</td>\n",
       "      <td>163.150000</td>\n",
       "      <td>3310.007500</td>\n",
       "      <td>4832.555000</td>\n",
       "      <td>213.932412</td>\n",
       "      <td>8.567000</td>\n",
       "    </tr>\n",
       "    <tr>\n",
       "      <th>max</th>\n",
       "      <td>45.000000</td>\n",
       "      <td>101.950000</td>\n",
       "      <td>4.468000</td>\n",
       "      <td>103184.980000</td>\n",
       "      <td>104519.540000</td>\n",
       "      <td>149483.310000</td>\n",
       "      <td>67474.850000</td>\n",
       "      <td>771448.100000</td>\n",
       "      <td>228.976456</td>\n",
       "      <td>14.313000</td>\n",
       "    </tr>\n",
       "  </tbody>\n",
       "</table>\n",
       "</div>"
      ],
      "text/plain": [
       "             Store  Temperature   Fuel_Price      MarkDown1      MarkDown2  \\\n",
       "count  8190.000000  8190.000000  8190.000000    4032.000000    2921.000000   \n",
       "mean     23.000000    59.356198     3.405992    7032.371786    3384.176594   \n",
       "std      12.987966    18.678607     0.431337    9262.747448    8793.583016   \n",
       "min       1.000000    -7.290000     2.472000   -2781.450000    -265.760000   \n",
       "25%      12.000000    45.902500     3.041000    1577.532500      68.880000   \n",
       "50%      23.000000    60.710000     3.513000    4743.580000     364.570000   \n",
       "75%      34.000000    73.880000     3.743000    8923.310000    2153.350000   \n",
       "max      45.000000   101.950000     4.468000  103184.980000  104519.540000   \n",
       "\n",
       "           MarkDown3     MarkDown4      MarkDown5          CPI  Unemployment  \n",
       "count    3613.000000   3464.000000    4050.000000  7605.000000   7605.000000  \n",
       "mean     1760.100180   3292.935886    4132.216422   172.460809      7.826821  \n",
       "std     11276.462208   6792.329861   13086.690278    39.738346      1.877259  \n",
       "min      -179.260000      0.220000    -185.170000   126.064000      3.684000  \n",
       "25%         6.600000    304.687500    1440.827500   132.364839      6.634000  \n",
       "50%        36.260000   1176.425000    2727.135000   182.764003      7.806000  \n",
       "75%       163.150000   3310.007500    4832.555000   213.932412      8.567000  \n",
       "max    149483.310000  67474.850000  771448.100000   228.976456     14.313000  "
      ]
     },
     "metadata": {},
     "output_type": "display_data"
    },
    {
     "name": "stdout",
     "output_type": "stream",
     "text": [
      "\n",
      "------------------------\n",
      "\n",
      "------------------------\n",
      "the missing data is as follows Store              0\n",
      "Date               0\n",
      "Temperature        0\n",
      "Fuel_Price         0\n",
      "MarkDown1       4158\n",
      "MarkDown2       5269\n",
      "MarkDown3       4577\n",
      "MarkDown4       4726\n",
      "MarkDown5       4140\n",
      "CPI              585\n",
      "Unemployment     585\n",
      "IsHoliday          0\n",
      "dtype: int64\n",
      "\n",
      "------------------------\n",
      "percentage Store           0.000000\n",
      "Date            0.000000\n",
      "Temperature     0.000000\n",
      "Fuel_Price      0.000000\n",
      "MarkDown1       0.507692\n",
      "MarkDown2       0.643346\n",
      "MarkDown3       0.558852\n",
      "MarkDown4       0.577045\n",
      "MarkDown5       0.505495\n",
      "CPI             0.071429\n",
      "Unemployment    0.071429\n",
      "IsHoliday       0.000000\n",
      "dtype: float64\n",
      "\n",
      "------------------------\n",
      "\n",
      "------------------------\n",
      "MISSING DATA AFTER IMPUTATION\n",
      "\n",
      "------------------------\n",
      "MISSING NUMERICAL DATA COUNT 0\n",
      "\n",
      "------------------------\n",
      "MISSING CATEGORICAL DATA COUNT 0\n",
      "\n",
      "------------------------\n"
     ]
    },
    {
     "data": {
      "image/png": "[encoded data removed]",
      "text/plain": [
       "<Figure size 432x288 with 2 Axes>"
      ]
     },
     "metadata": {
      "needs_background": "light"
     },
     "output_type": "display_data"
    },
    {
     "data": {
      "image/png": "[encoded data removed]",
      "text/plain": [
       "<Figure size 648x432 with 1 Axes>"
      ]
     },
     "metadata": {
      "needs_background": "light"
     },
     "output_type": "display_data"
    },
    {
     "data": {
      "image/png": "[encoded data removed]",
      "text/plain": [
       "<Figure size 648x432 with 1 Axes>"
      ]
     },
     "metadata": {
      "needs_background": "light"
     },
     "output_type": "display_data"
    },
    {
     "data": {
      "image/png": "[encoded data removed]",
      "text/plain": [
       "<Figure size 648x432 with 1 Axes>"
      ]
     },
     "metadata": {
      "needs_background": "light"
     },
     "output_type": "display_data"
    },
    {
     "data": {
      "image/png": "[encoded data removed]",
      "text/plain": [
       "<Figure size 648x432 with 1 Axes>"
      ]
     },
     "metadata": {
      "needs_background": "light"
     },
     "output_type": "display_data"
    },
    {
     "data": {
      "image/png": "[encoded data removed]",
      "text/plain": [
       "<Figure size 648x432 with 1 Axes>"
      ]
     },
     "metadata": {
      "needs_background": "light"
     },
     "output_type": "display_data"
    },
    {
     "data": {
      "image/png": "[encoded data removed]",
      "text/plain": [
       "<Figure size 648x432 with 1 Axes>"
      ]
     },
     "metadata": {
      "needs_background": "light"
     },
     "output_type": "display_data"
    },
    {
     "data": {
      "image/png": "[encoded data removed]",
      "text/plain": [
       "<Figure size 648x432 with 1 Axes>"
      ]
     },
     "metadata": {
      "needs_background": "light"
     },
     "output_type": "display_data"
    },
    {
     "data": {
      "image/png": "[encoded data removed]",
      "text/plain": [
       "<Figure size 648x432 with 1 Axes>"
      ]
     },
     "metadata": {
      "needs_background": "light"
     },
     "output_type": "display_data"
    },
    {
     "data": {
      "image/png": "[encoded data removed]",
      "text/plain": [
       "<Figure size 648x432 with 1 Axes>"
      ]
     },
     "metadata": {
      "needs_background": "light"
     },
     "output_type": "display_data"
    },
    {
     "data": {
      "image/png": "[encoded data removed]",
      "text/plain": [
       "<Figure size 648x432 with 1 Axes>"
      ]
     },
     "metadata": {
      "needs_background": "light"
     },
     "output_type": "display_data"
    }
   ],
   "source": [
    "automated_EDA(\"../input/retaildataset/Features data set.csv\")"
   ]
  },
  {
   "cell_type": "code",
   "execution_count": 4,
   "id": "f54d0a53",
   "metadata": {
    "execution": {
     "iopub.execute_input": "2022-07-31T19:27:33.519817Z",
     "iopub.status.busy": "2022-07-31T19:27:33.519125Z",
     "iopub.status.idle": "2022-07-31T19:27:35.112765Z",
     "shell.execute_reply": "2022-07-31T19:27:35.111526Z"
    },
    "papermill": {
     "duration": 1.611161,
     "end_time": "2022-07-31T19:27:35.115153",
     "exception": false,
     "start_time": "2022-07-31T19:27:33.503992",
     "status": "completed"
    },
    "tags": []
   },
   "outputs": [
    {
     "name": "stdout",
     "output_type": "stream",
     "text": [
      "Data Shape :\n",
      "(5416, 14)\n",
      "\n",
      "------------------------\n",
      "Data head : \n"
     ]
    },
    {
     "data": {
      "text/html": [
       "<div>\n",
       "<style scoped>\n",
       "    .dataframe tbody tr th:only-of-type {\n",
       "        vertical-align: middle;\n",
       "    }\n",
       "\n",
       "    .dataframe tbody tr th {\n",
       "        vertical-align: top;\n",
       "    }\n",
       "\n",
       "    .dataframe thead th {\n",
       "        text-align: right;\n",
       "    }\n",
       "</style>\n",
       "<table border=\"1\" class=\"dataframe\">\n",
       "  <thead>\n",
       "    <tr style=\"text-align: right;\">\n",
       "      <th></th>\n",
       "      <th>id</th>\n",
       "      <th>name</th>\n",
       "      <th>date</th>\n",
       "      <th>manner_of_death</th>\n",
       "      <th>armed</th>\n",
       "      <th>age</th>\n",
       "      <th>gender</th>\n",
       "      <th>race</th>\n",
       "      <th>city</th>\n",
       "      <th>state</th>\n",
       "      <th>signs_of_mental_illness</th>\n",
       "      <th>threat_level</th>\n",
       "      <th>flee</th>\n",
       "      <th>body_camera</th>\n",
       "    </tr>\n",
       "  </thead>\n",
       "  <tbody>\n",
       "    <tr>\n",
       "      <th>0</th>\n",
       "      <td>3</td>\n",
       "      <td>Tim Elliot</td>\n",
       "      <td>2015-01-02</td>\n",
       "      <td>shot</td>\n",
       "      <td>gun</td>\n",
       "      <td>53.0</td>\n",
       "      <td>M</td>\n",
       "      <td>A</td>\n",
       "      <td>Shelton</td>\n",
       "      <td>WA</td>\n",
       "      <td>True</td>\n",
       "      <td>attack</td>\n",
       "      <td>Not fleeing</td>\n",
       "      <td>False</td>\n",
       "    </tr>\n",
       "    <tr>\n",
       "      <th>1</th>\n",
       "      <td>4</td>\n",
       "      <td>Lewis Lee Lembke</td>\n",
       "      <td>2015-01-02</td>\n",
       "      <td>shot</td>\n",
       "      <td>gun</td>\n",
       "      <td>47.0</td>\n",
       "      <td>M</td>\n",
       "      <td>W</td>\n",
       "      <td>Aloha</td>\n",
       "      <td>OR</td>\n",
       "      <td>False</td>\n",
       "      <td>attack</td>\n",
       "      <td>Not fleeing</td>\n",
       "      <td>False</td>\n",
       "    </tr>\n",
       "    <tr>\n",
       "      <th>2</th>\n",
       "      <td>5</td>\n",
       "      <td>John Paul Quintero</td>\n",
       "      <td>2015-01-03</td>\n",
       "      <td>shot and Tasered</td>\n",
       "      <td>unarmed</td>\n",
       "      <td>23.0</td>\n",
       "      <td>M</td>\n",
       "      <td>H</td>\n",
       "      <td>Wichita</td>\n",
       "      <td>KS</td>\n",
       "      <td>False</td>\n",
       "      <td>other</td>\n",
       "      <td>Not fleeing</td>\n",
       "      <td>False</td>\n",
       "    </tr>\n",
       "    <tr>\n",
       "      <th>3</th>\n",
       "      <td>8</td>\n",
       "      <td>Matthew Hoffman</td>\n",
       "      <td>2015-01-04</td>\n",
       "      <td>shot</td>\n",
       "      <td>toy weapon</td>\n",
       "      <td>32.0</td>\n",
       "      <td>M</td>\n",
       "      <td>W</td>\n",
       "      <td>San Francisco</td>\n",
       "      <td>CA</td>\n",
       "      <td>True</td>\n",
       "      <td>attack</td>\n",
       "      <td>Not fleeing</td>\n",
       "      <td>False</td>\n",
       "    </tr>\n",
       "    <tr>\n",
       "      <th>4</th>\n",
       "      <td>9</td>\n",
       "      <td>Michael Rodriguez</td>\n",
       "      <td>2015-01-04</td>\n",
       "      <td>shot</td>\n",
       "      <td>nail gun</td>\n",
       "      <td>39.0</td>\n",
       "      <td>M</td>\n",
       "      <td>H</td>\n",
       "      <td>Evans</td>\n",
       "      <td>CO</td>\n",
       "      <td>False</td>\n",
       "      <td>attack</td>\n",
       "      <td>Not fleeing</td>\n",
       "      <td>False</td>\n",
       "    </tr>\n",
       "  </tbody>\n",
       "</table>\n",
       "</div>"
      ],
      "text/plain": [
       "   id                name        date   manner_of_death       armed   age  \\\n",
       "0   3          Tim Elliot  2015-01-02              shot         gun  53.0   \n",
       "1   4    Lewis Lee Lembke  2015-01-02              shot         gun  47.0   \n",
       "2   5  John Paul Quintero  2015-01-03  shot and Tasered     unarmed  23.0   \n",
       "3   8     Matthew Hoffman  2015-01-04              shot  toy weapon  32.0   \n",
       "4   9   Michael Rodriguez  2015-01-04              shot    nail gun  39.0   \n",
       "\n",
       "  gender race           city state  signs_of_mental_illness threat_level  \\\n",
       "0      M    A        Shelton    WA                     True       attack   \n",
       "1      M    W          Aloha    OR                    False       attack   \n",
       "2      M    H        Wichita    KS                    False        other   \n",
       "3      M    W  San Francisco    CA                     True       attack   \n",
       "4      M    H          Evans    CO                    False       attack   \n",
       "\n",
       "          flee  body_camera  \n",
       "0  Not fleeing        False  \n",
       "1  Not fleeing        False  \n",
       "2  Not fleeing        False  \n",
       "3  Not fleeing        False  \n",
       "4  Not fleeing        False  "
      ]
     },
     "metadata": {},
     "output_type": "display_data"
    },
    {
     "name": "stdout",
     "output_type": "stream",
     "text": [
      "\n",
      "------------------------\n",
      "data info : \n",
      "<class 'pandas.core.frame.DataFrame'>\n",
      "RangeIndex: 5416 entries, 0 to 5415\n",
      "Data columns (total 14 columns):\n",
      " #   Column                   Non-Null Count  Dtype  \n",
      "---  ------                   --------------  -----  \n",
      " 0   id                       5416 non-null   int64  \n",
      " 1   name                     5416 non-null   object \n",
      " 2   date                     5416 non-null   object \n",
      " 3   manner_of_death          5416 non-null   object \n",
      " 4   armed                    5189 non-null   object \n",
      " 5   age                      5181 non-null   float64\n",
      " 6   gender                   5414 non-null   object \n",
      " 7   race                     4895 non-null   object \n",
      " 8   city                     5416 non-null   object \n",
      " 9   state                    5416 non-null   object \n",
      " 10  signs_of_mental_illness  5416 non-null   bool   \n",
      " 11  threat_level             5416 non-null   object \n",
      " 12  flee                     5167 non-null   object \n",
      " 13  body_camera              5416 non-null   bool   \n",
      "dtypes: bool(2), float64(1), int64(1), object(10)\n",
      "memory usage: 518.5+ KB\n"
     ]
    },
    {
     "data": {
      "text/plain": [
       "None"
      ]
     },
     "metadata": {},
     "output_type": "display_data"
    },
    {
     "name": "stdout",
     "output_type": "stream",
     "text": [
      "\n",
      "------------------------\n",
      "data describtion : \n"
     ]
    },
    {
     "data": {
      "text/html": [
       "<div>\n",
       "<style scoped>\n",
       "    .dataframe tbody tr th:only-of-type {\n",
       "        vertical-align: middle;\n",
       "    }\n",
       "\n",
       "    .dataframe tbody tr th {\n",
       "        vertical-align: top;\n",
       "    }\n",
       "\n",
       "    .dataframe thead th {\n",
       "        text-align: right;\n",
       "    }\n",
       "</style>\n",
       "<table border=\"1\" class=\"dataframe\">\n",
       "  <thead>\n",
       "    <tr style=\"text-align: right;\">\n",
       "      <th></th>\n",
       "      <th>id</th>\n",
       "      <th>age</th>\n",
       "    </tr>\n",
       "  </thead>\n",
       "  <tbody>\n",
       "    <tr>\n",
       "      <th>count</th>\n",
       "      <td>5416.000000</td>\n",
       "      <td>5181.000000</td>\n",
       "    </tr>\n",
       "    <tr>\n",
       "      <th>mean</th>\n",
       "      <td>3010.398264</td>\n",
       "      <td>37.117931</td>\n",
       "    </tr>\n",
       "    <tr>\n",
       "      <th>std</th>\n",
       "      <td>1695.786456</td>\n",
       "      <td>13.116135</td>\n",
       "    </tr>\n",
       "    <tr>\n",
       "      <th>min</th>\n",
       "      <td>3.000000</td>\n",
       "      <td>6.000000</td>\n",
       "    </tr>\n",
       "    <tr>\n",
       "      <th>25%</th>\n",
       "      <td>1545.750000</td>\n",
       "      <td>27.000000</td>\n",
       "    </tr>\n",
       "    <tr>\n",
       "      <th>50%</th>\n",
       "      <td>3009.500000</td>\n",
       "      <td>35.000000</td>\n",
       "    </tr>\n",
       "    <tr>\n",
       "      <th>75%</th>\n",
       "      <td>4486.250000</td>\n",
       "      <td>46.000000</td>\n",
       "    </tr>\n",
       "    <tr>\n",
       "      <th>max</th>\n",
       "      <td>5927.000000</td>\n",
       "      <td>91.000000</td>\n",
       "    </tr>\n",
       "  </tbody>\n",
       "</table>\n",
       "</div>"
      ],
      "text/plain": [
       "                id          age\n",
       "count  5416.000000  5181.000000\n",
       "mean   3010.398264    37.117931\n",
       "std    1695.786456    13.116135\n",
       "min       3.000000     6.000000\n",
       "25%    1545.750000    27.000000\n",
       "50%    3009.500000    35.000000\n",
       "75%    4486.250000    46.000000\n",
       "max    5927.000000    91.000000"
      ]
     },
     "metadata": {},
     "output_type": "display_data"
    },
    {
     "name": "stdout",
     "output_type": "stream",
     "text": [
      "\n",
      "------------------------\n",
      "\n",
      "------------------------\n",
      "the missing data is as follows id                           0\n",
      "name                         0\n",
      "date                         0\n",
      "manner_of_death              0\n",
      "armed                      227\n",
      "age                        235\n",
      "gender                       2\n",
      "race                       521\n",
      "city                         0\n",
      "state                        0\n",
      "signs_of_mental_illness      0\n",
      "threat_level                 0\n",
      "flee                       249\n",
      "body_camera                  0\n",
      "dtype: int64\n",
      "\n",
      "------------------------\n",
      "percentage id                         0.000000\n",
      "name                       0.000000\n",
      "date                       0.000000\n",
      "manner_of_death            0.000000\n",
      "armed                      0.041913\n",
      "age                        0.043390\n",
      "gender                     0.000369\n",
      "race                       0.096196\n",
      "city                       0.000000\n",
      "state                      0.000000\n",
      "signs_of_mental_illness    0.000000\n",
      "threat_level               0.000000\n",
      "flee                       0.045975\n",
      "body_camera                0.000000\n",
      "dtype: float64\n",
      "\n",
      "------------------------\n",
      "\n",
      "------------------------\n",
      "MISSING DATA AFTER IMPUTATION\n",
      "\n",
      "------------------------\n",
      "MISSING NUMERICAL DATA COUNT 0\n",
      "\n",
      "------------------------\n",
      "MISSING CATEGORICAL DATA COUNT 0\n",
      "\n",
      "------------------------\n"
     ]
    },
    {
     "data": {
      "image/png": "[encoded data removed]",
      "text/plain": [
       "<Figure size 432x288 with 2 Axes>"
      ]
     },
     "metadata": {
      "needs_background": "light"
     },
     "output_type": "display_data"
    },
    {
     "data": {
      "image/png": "[encoded data removed]",
      "text/plain": [
       "<Figure size 648x432 with 1 Axes>"
      ]
     },
     "metadata": {
      "needs_background": "light"
     },
     "output_type": "display_data"
    },
    {
     "data": {
      "image/png": "[encoded data removed]",
      "text/plain": [
       "<Figure size 648x432 with 1 Axes>"
      ]
     },
     "metadata": {
      "needs_background": "light"
     },
     "output_type": "display_data"
    }
   ],
   "source": [
    "automated_EDA(\"../input/data-police-shootings/fatal-police-shootings-data.csv\")"
   ]
  },
  {
   "cell_type": "code",
   "execution_count": null,
   "id": "bf600f24",
   "metadata": {
    "papermill": {
     "duration": 0.015716,
     "end_time": "2022-07-31T19:27:35.147525",
     "exception": false,
     "start_time": "2022-07-31T19:27:35.131809",
     "status": "completed"
    },
    "tags": []
   },
   "outputs": [],
   "source": []
  },
  {
   "cell_type": "code",
   "execution_count": null,
   "id": "7e693710",
   "metadata": {
    "papermill": {
     "duration": 0.015593,
     "end_time": "2022-07-31T19:27:35.179106",
     "exception": false,
     "start_time": "2022-07-31T19:27:35.163513",
     "status": "completed"
    },
    "tags": []
   },
   "outputs": [],
   "source": []
  },
  {
   "cell_type": "code",
   "execution_count": null,
   "id": "81c5ea51",
   "metadata": {
    "papermill": {
     "duration": 0.015621,
     "end_time": "2022-07-31T19:27:35.210702",
     "exception": false,
     "start_time": "2022-07-31T19:27:35.195081",
     "status": "completed"
    },
    "tags": []
   },
   "outputs": [],
   "source": []
  },
  {
   "cell_type": "code",
   "execution_count": null,
   "id": "beaa9b47",
   "metadata": {
    "_cell_guid": "8fd3e9b6-5fcb-40b4-a46c-34cb93478bbd",
    "_uuid": "ecd576f2-1147-43a9-8a19-5a209896cc4e",
    "collapsed": false,
    "jupyter": {
     "outputs_hidden": false
    },
    "papermill": {
     "duration": 0.016553,
     "end_time": "2022-07-31T19:27:35.243343",
     "exception": false,
     "start_time": "2022-07-31T19:27:35.226790",
     "status": "completed"
    },
    "tags": []
   },
   "outputs": [],
   "source": []
  },
  {
   "cell_type": "code",
   "execution_count": null,
   "id": "ede49f6a",
   "metadata": {
    "_cell_guid": "00e26243-da43-48e9-8436-e905b3eb2a54",
    "_uuid": "84376125-48e3-4bcd-91b8-2081771d76cb",
    "collapsed": false,
    "jupyter": {
     "outputs_hidden": false
    },
    "papermill": {
     "duration": 0.015727,
     "end_time": "2022-07-31T19:27:35.275231",
     "exception": false,
     "start_time": "2022-07-31T19:27:35.259504",
     "status": "completed"
    },
    "tags": []
   },
   "outputs": [],
   "source": []
  },
  {
   "cell_type": "code",
   "execution_count": null,
   "id": "5938d626",
   "metadata": {
    "_cell_guid": "f51e3d8b-c93c-42de-baaf-932161d0d2c6",
    "_uuid": "b24c096f-c920-4bc2-909a-0898b41ca7fd",
    "collapsed": false,
    "jupyter": {
     "outputs_hidden": false
    },
    "papermill": {
     "duration": 0.01567,
     "end_time": "2022-07-31T19:27:35.307214",
     "exception": false,
     "start_time": "2022-07-31T19:27:35.291544",
     "status": "completed"
    },
    "tags": []
   },
   "outputs": [],
   "source": []
  },
  {
   "cell_type": "code",
   "execution_count": null,
   "id": "5e3d5bf4",
   "metadata": {
    "_cell_guid": "e4304b02-9e05-47be-bb2f-79f496beca43",
    "_uuid": "8597437f-0e8a-4064-9679-6f81c403ba30",
    "collapsed": false,
    "jupyter": {
     "outputs_hidden": false
    },
    "papermill": {
     "duration": 0.015772,
     "end_time": "2022-07-31T19:27:35.339033",
     "exception": false,
     "start_time": "2022-07-31T19:27:35.323261",
     "status": "completed"
    },
    "tags": []
   },
   "outputs": [],
   "source": []
  },
  {
   "cell_type": "code",
   "execution_count": 5,
   "id": "628f1c9e",
   "metadata": {
    "_cell_guid": "1cb055c9-b526-4e59-98c0-66bb77174901",
    "_uuid": "7bc9b32e-e193-4121-aace-2ad7be84220a",
    "collapsed": false,
    "execution": {
     "iopub.execute_input": "2022-07-31T19:27:35.373162Z",
     "iopub.status.busy": "2022-07-31T19:27:35.372715Z",
     "iopub.status.idle": "2022-07-31T19:27:35.378541Z",
     "shell.execute_reply": "2022-07-31T19:27:35.377720Z"
    },
    "jupyter": {
     "outputs_hidden": false
    },
    "papermill": {
     "duration": 0.025811,
     "end_time": "2022-07-31T19:27:35.381177",
     "exception": false,
     "start_time": "2022-07-31T19:27:35.355366",
     "status": "completed"
    },
    "tags": []
   },
   "outputs": [
    {
     "name": "stdout",
     "output_type": "stream",
     "text": [
      "Object `pp` not found.\n"
     ]
    }
   ],
   "source": [
    "pp??"
   ]
  },
  {
   "cell_type": "markdown",
   "id": "618fbb42",
   "metadata": {
    "_cell_guid": "97bd7c5d-18e5-4061-ad03-c67a40a6d85f",
    "_uuid": "bf5a4b79-c9dc-49ae-a7a0-36479ab2b247",
    "execution": {
     "iopub.execute_input": "2022-07-30T19:02:26.187323Z",
     "iopub.status.busy": "2022-07-30T19:02:26.186907Z",
     "iopub.status.idle": "2022-07-30T19:02:26.192284Z",
     "shell.execute_reply": "2022-07-30T19:02:26.191390Z",
     "shell.execute_reply.started": "2022-07-30T19:02:26.187290Z"
    },
    "papermill": {
     "duration": 0.015843,
     "end_time": "2022-07-31T19:27:35.413382",
     "exception": false,
     "start_time": "2022-07-31T19:27:35.397539",
     "status": "completed"
    },
    "tags": []
   },
   "source": [
    "DATA CLEANING"
   ]
  },
  {
   "cell_type": "code",
   "execution_count": null,
   "id": "c43c890e",
   "metadata": {
    "papermill": {
     "duration": 0.016557,
     "end_time": "2022-07-31T19:27:35.446330",
     "exception": false,
     "start_time": "2022-07-31T19:27:35.429773",
     "status": "completed"
    },
    "tags": []
   },
   "outputs": [],
   "source": []
  },
  {
   "cell_type": "code",
   "execution_count": null,
   "id": "343e6e04",
   "metadata": {
    "papermill": {
     "duration": 0.017709,
     "end_time": "2022-07-31T19:27:35.480552",
     "exception": false,
     "start_time": "2022-07-31T19:27:35.462843",
     "status": "completed"
    },
    "tags": []
   },
   "outputs": [],
   "source": []
  },
  {
   "cell_type": "code",
   "execution_count": null,
   "id": "4af1f4b4",
   "metadata": {
    "_cell_guid": "53871e20-533f-40bb-9dde-441e88428489",
    "_uuid": "cac54b7f-781e-4799-a1fd-34de9334996d",
    "collapsed": false,
    "execution": {
     "iopub.execute_input": "2022-07-30T18:38:00.804908Z",
     "iopub.status.busy": "2022-07-30T18:38:00.804351Z",
     "iopub.status.idle": "2022-07-30T18:38:00.821308Z",
     "shell.execute_reply": "2022-07-30T18:38:00.820443Z",
     "shell.execute_reply.started": "2022-07-30T18:38:00.804866Z"
    },
    "jupyter": {
     "outputs_hidden": false
    },
    "papermill": {
     "duration": 0.017281,
     "end_time": "2022-07-31T19:27:35.518325",
     "exception": false,
     "start_time": "2022-07-31T19:27:35.501044",
     "status": "completed"
    },
    "tags": []
   },
   "outputs": [],
   "source": []
  },
  {
   "cell_type": "code",
   "execution_count": null,
   "id": "c48c318e",
   "metadata": {
    "_cell_guid": "1a051bf0-855e-4ecc-a8cd-896bcc8cc16c",
    "_uuid": "d32e6771-a7ed-4a18-8544-417d1709ba48",
    "collapsed": false,
    "execution": {
     "iopub.execute_input": "2022-07-30T18:49:20.710316Z",
     "iopub.status.busy": "2022-07-30T18:49:20.709846Z",
     "iopub.status.idle": "2022-07-30T18:49:29.559701Z",
     "shell.execute_reply": "2022-07-30T18:49:29.558202Z",
     "shell.execute_reply.started": "2022-07-30T18:49:20.710273Z"
    },
    "jupyter": {
     "outputs_hidden": false
    },
    "papermill": {
     "duration": 0.017238,
     "end_time": "2022-07-31T19:27:35.553878",
     "exception": false,
     "start_time": "2022-07-31T19:27:35.536640",
     "status": "completed"
    },
    "tags": []
   },
   "outputs": [],
   "source": []
  },
  {
   "cell_type": "code",
   "execution_count": null,
   "id": "a1d59813",
   "metadata": {
    "_cell_guid": "aec3c092-aabd-46dd-94a0-406091a3e6ab",
    "_uuid": "a81ce5d9-b794-4c65-a7d4-e095e5535fa8",
    "collapsed": false,
    "jupyter": {
     "outputs_hidden": false
    },
    "papermill": {
     "duration": 0.015791,
     "end_time": "2022-07-31T19:27:35.585779",
     "exception": false,
     "start_time": "2022-07-31T19:27:35.569988",
     "status": "completed"
    },
    "tags": []
   },
   "outputs": [],
   "source": []
  },
  {
   "cell_type": "code",
   "execution_count": null,
   "id": "ff783c8c",
   "metadata": {
    "_cell_guid": "e15e7c5f-532d-493a-b938-16b1c7d5c4ba",
    "_uuid": "e8c28ff9-62d6-4f30-beee-4f39209b07de",
    "collapsed": false,
    "jupyter": {
     "outputs_hidden": false
    },
    "papermill": {
     "duration": 0.015534,
     "end_time": "2022-07-31T19:27:35.617360",
     "exception": false,
     "start_time": "2022-07-31T19:27:35.601826",
     "status": "completed"
    },
    "tags": []
   },
   "outputs": [],
   "source": []
  },
  {
   "cell_type": "code",
   "execution_count": null,
   "id": "b061dbc8",
   "metadata": {
    "_cell_guid": "cd3097c7-5e64-4146-a619-c2b1bacecce3",
    "_uuid": "62cf518e-0734-4de4-8c5e-4a4e7368e5ba",
    "collapsed": false,
    "jupyter": {
     "outputs_hidden": false
    },
    "papermill": {
     "duration": 0.015644,
     "end_time": "2022-07-31T19:27:35.648912",
     "exception": false,
     "start_time": "2022-07-31T19:27:35.633268",
     "status": "completed"
    },
    "tags": []
   },
   "outputs": [],
   "source": []
  },
  {
   "cell_type": "code",
   "execution_count": null,
   "id": "eb1465a8",
   "metadata": {
    "_cell_guid": "c311149b-c339-4ce3-a023-7f3126a8cede",
    "_uuid": "b046edbc-e332-40e9-be3e-a6f776c366b0",
    "collapsed": false,
    "jupyter": {
     "outputs_hidden": false
    },
    "papermill": {
     "duration": 0.015627,
     "end_time": "2022-07-31T19:27:35.680525",
     "exception": false,
     "start_time": "2022-07-31T19:27:35.664898",
     "status": "completed"
    },
    "tags": []
   },
   "outputs": [],
   "source": []
  },
  {
   "cell_type": "code",
   "execution_count": null,
   "id": "149e5767",
   "metadata": {
    "_cell_guid": "ee66558f-6333-4a7a-bf8d-aa1e39c2c65e",
    "_uuid": "b94ced79-26e9-44b9-af4f-1b98111deb9d",
    "collapsed": false,
    "jupyter": {
     "outputs_hidden": false
    },
    "papermill": {
     "duration": 0.015853,
     "end_time": "2022-07-31T19:27:35.712673",
     "exception": false,
     "start_time": "2022-07-31T19:27:35.696820",
     "status": "completed"
    },
    "tags": []
   },
   "outputs": [],
   "source": []
  }
 ],
 "metadata": {
  "kernelspec": {
   "display_name": "Python 3",
   "language": "python",
   "name": "python3"
  },
  "language_info": {
   "codemirror_mode": {
    "name": "ipython",
    "version": 3
   },
   "file_extension": ".py",
   "mimetype": "text/x-python",
   "name": "python",
   "nbconvert_exporter": "python",
   "pygments_lexer": "ipython3",
   "version": "3.7.12"
  },
  "papermill": {
   "default_parameters": {},
   "duration": 21.576141,
   "end_time": "2022-07-31T19:27:36.451300",
   "environment_variables": {},
   "exception": null,
   "input_path": "__notebook__.ipynb",
   "output_path": "__notebook__.ipynb",
   "parameters": {},
   "start_time": "2022-07-31T19:27:14.875159",
   "version": "2.3.4"
  }
 },
 "nbformat": 4,
 "nbformat_minor": 5
}
